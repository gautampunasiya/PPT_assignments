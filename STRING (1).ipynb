{
  "cells": [
    {
      "cell_type": "markdown",
      "id": "66c630e8-9417-4c6d-8b5e-2fe394d20e13",
      "metadata": {
        "id": "66c630e8-9417-4c6d-8b5e-2fe394d20e13"
      },
      "source": [
        "<aside>\n",
        "💡 **Question 1**\n",
        "\n",
        "A permutation perm of n + 1 integers of all the integers in the range [0, n] can be represented as a string s of length n where:\n",
        "\n",
        "- s[i] == 'I' if perm[i] < perm[i + 1], and\n",
        "- s[i] == 'D' if perm[i] > perm[i + 1].\n",
        "\n",
        "Given a string s, reconstruct the permutation perm and return it. If there are multiple valid permutations perm, return **any of them**.\n",
        "\n",
        "**Example 1:**\n",
        "\n",
        "**Input:** s = \"IDID\"\n",
        "\n",
        "**Output:**\n",
        "\n",
        "[0,4,1,3,2]\n",
        "\n",
        "</aside>"
      ]
    },
    {
      "cell_type": "code",
      "execution_count": null,
      "id": "c41792fb-0ec1-4d31-a3df-b62a420177a6",
      "metadata": {
        "id": "c41792fb-0ec1-4d31-a3df-b62a420177a6",
        "outputId": "eb9376e3-bd59-4b62-8ce5-4ae5d0024609"
      },
      "outputs": [
        {
          "name": "stdout",
          "output_type": "stream",
          "text": [
            "[0, 4, 1, 3, 2]\n"
          ]
        }
      ],
      "source": [
        "def reconstruct_permutation(s):\n",
        "    n = len(s)\n",
        "    perm = []\n",
        "    low, high = 0, n\n",
        "\n",
        "    for c in s:\n",
        "        if c == 'I':\n",
        "            perm.append(low)\n",
        "            low += 1\n",
        "        elif c == 'D':\n",
        "            perm.append(high)\n",
        "            high -= 1\n",
        "\n",
        "    perm.append(low)  # or perm.append(high)\n",
        "\n",
        "    return perm\n",
        "s = \"IDID\"\n",
        "reconstructed_perm = reconstruct_permutation(s)\n",
        "print(reconstructed_perm)\n"
      ]
    },
    {
      "cell_type": "markdown",
      "id": "794c7127-8eb2-48eb-a9fe-405b58ca2275",
      "metadata": {
        "id": "794c7127-8eb2-48eb-a9fe-405b58ca2275"
      },
      "source": [
        "<aside>\n",
        "💡 **Question 2**\n",
        "\n",
        "You are given an m x n integer matrix matrix with the following two properties:\n",
        "\n",
        "- Each row is sorted in non-decreasing order.\n",
        "- The first integer of each row is greater than the last integer of the previous row.\n",
        "\n",
        "Given an integer target, return true *if* target *is in* matrix *or* false *otherwise*.\n",
        "\n",
        "You must write a solution in O(log(m * n)) time complexity.\n",
        "\n",
        "**Example 1:**\n",
        "\n",
        "</aside>\n",
        "**Input:** matrix = [[1,3,5,7],[10,11,16,20],[23,30,34,60]], target = 3\n",
        "\n",
        "**Output:** true"
      ]
    },
    {
      "cell_type": "code",
      "execution_count": null,
      "id": "dae5952d-63e4-4c06-9daf-d52b6e18f3ce",
      "metadata": {
        "id": "dae5952d-63e4-4c06-9daf-d52b6e18f3ce",
        "outputId": "c8858ce1-2e6a-4021-fbfd-a9a841c48d1e"
      },
      "outputs": [
        {
          "name": "stdout",
          "output_type": "stream",
          "text": [
            "True\n"
          ]
        }
      ],
      "source": [
        "def search_matrix(matrix, target):\n",
        "    i = 0\n",
        "    j = len(matrix[0])-1\n",
        "\n",
        "    while i<len(matrix) and j>=0:\n",
        "\n",
        "        if matrix[i][j] == target:\n",
        "            return True\n",
        "        elif matrix[i][j]<target:\n",
        "            i=i+1\n",
        "        else:\n",
        "            j=j-1\n",
        "\n",
        "    return False\n",
        "matrix = [\n",
        "    [1, 3, 5, 7],\n",
        "    [10, 11, 16, 20],\n",
        "    [23, 30, 34, 60]\n",
        "]\n",
        "target = 3\n",
        "result = search_matrix(matrix, target)\n",
        "print(result)\n"
      ]
    },
    {
      "cell_type": "markdown",
      "id": "b95ef842-6888-44c2-9d0e-70648b9c5bfe",
      "metadata": {
        "id": "b95ef842-6888-44c2-9d0e-70648b9c5bfe"
      },
      "source": [
        "Question 3\n",
        "Given an array of integers arr, return *true if and only if it is a valid mountain array*.\n",
        "\n",
        "Recall that arr is a mountain array if and only if:\n",
        "\n",
        "- arr.length >= 3\n",
        "- There exists some i with 0 < i < arr.length - 1 such that:\n",
        "    - arr[0] < arr[1] < ... < arr[i - 1] < arr[i]\n",
        "    - arr[i] > arr[i + 1] > ... > arr[arr.length - 1\n",
        "**Example 1:**\n",
        "\n",
        "**Input:** arr = [2,1]\n",
        "\n",
        "**Output:**\n",
        "\n",
        "false"
      ]
    },
    {
      "cell_type": "code",
      "execution_count": null,
      "id": "d6ea51d0-c816-4689-9d82-997f4a7919ca",
      "metadata": {
        "id": "d6ea51d0-c816-4689-9d82-997f4a7919ca",
        "outputId": "fc4451d3-9452-4678-9edb-e3049541d8a3"
      },
      "outputs": [
        {
          "name": "stdout",
          "output_type": "stream",
          "text": [
            "False\n"
          ]
        }
      ],
      "source": [
        "def valid_mountain_array(arr):\n",
        "    n = len(arr)\n",
        "    if n < 3:\n",
        "        return False\n",
        "\n",
        "    i = 1\n",
        "    while i < n and arr[i] > arr[i - 1]:\n",
        "        i += 1\n",
        "\n",
        "    if i == 1 or i == n:\n",
        "        return False\n",
        "\n",
        "    while i < n and arr[i] < arr[i - 1]:\n",
        "        i += 1\n",
        "\n",
        "    return i == n\n",
        "arr = [2, 1]\n",
        "result = valid_mountain_array(arr)\n",
        "print(result)\n"
      ]
    },
    {
      "cell_type": "markdown",
      "id": "9511b9e9-c94c-43b3-9286-a11af78b0579",
      "metadata": {
        "id": "9511b9e9-c94c-43b3-9286-a11af78b0579"
      },
      "source": [
        "<aside>\n",
        "💡 **Question 4**\n",
        "\n",
        "Given a binary array nums, return *the maximum length of a contiguous subarray with an equal number of* 0 *and* 1.\n",
        "\n",
        "**Example 1:**\n",
        "\n",
        "**Input:** nums = [0,1]\n",
        "\n",
        "**Output:** 2\n",
        "\n",
        "**Explanation:**\n",
        "\n",
        "[0, 1] is the longest contiguous subarray with an equal number of 0 and 1\n",
        "\n",
        "</aside>"
      ]
    },
    {
      "cell_type": "markdown",
      "id": "ffa4660d-a766-49da-b84e-25a550fee6eb",
      "metadata": {
        "id": "ffa4660d-a766-49da-b84e-25a550fee6eb"
      },
      "source": [
        "<aside>\n",
        "💡 **Question 5**\n",
        "\n",
        "The **product sum** of two equal-length arrays a and b is equal to the sum of a[i] * b[i] for all 0 <= i < a.length (**0-indexed**).\n",
        "\n",
        "- For example, if a = [1,2,3,4] and b = [5,2,3,1], the **product sum** would be 1*5 + 2*2 + 3*3 + 4*1 = 22.\n",
        "\n",
        "Given two arrays nums1 and nums2 of length n, return *the **minimum product sum** if you are allowed to **rearrange** the **order** of the elements in* nums1.\n",
        "\n",
        "**Example 1:**\n",
        "\n",
        "**Input:** nums1 = [5,3,4,2], nums2 = [4,2,2,5]\n",
        "\n",
        "**Output:** 40\n",
        "\n",
        "**Explanation:**\n",
        "\n",
        "We can rearrange nums1 to become [3,5,4,2]. The product sum of [3,5,4,2] and [4,2,2,5] is 3*4 + 5*2 + 4*2 + 2*5 = 40.\n",
        "\n",
        "</aside>"
      ]
    },
    {
      "cell_type": "code",
      "execution_count": null,
      "id": "26d9bf4a-d789-4622-aec6-5328758803df",
      "metadata": {
        "id": "26d9bf4a-d789-4622-aec6-5328758803df"
      },
      "outputs": [],
      "source": [
        "def min_product_sum(nums1, nums2):\n",
        "    nums1.sort()\n",
        "    nums2.sort(reverse=True)\n",
        "\n",
        "    min_product_sum = 0\n",
        "    n = len(nums1)\n",
        "\n",
        "    for i in range(n):\n",
        "        min_product_sum += nums1[i] * nums2[n - i - 1]\n",
        "\n",
        "    return min_product_sum\n",
        "nums1 = [5, 3, 4, 2]\n",
        "nums2 = [4, 2, 2, 5]\n",
        "result = min_product_sum(nums1, nums2)\n",
        "print(result)\n"
      ]
    },
    {
      "cell_type": "markdown",
      "id": "71932a70-c7fc-4021-b979-b3d333dd9c09",
      "metadata": {
        "id": "71932a70-c7fc-4021-b979-b3d333dd9c09"
      },
      "source": [
        "<aside>\n",
        "💡 **Question 6**\n",
        "\n",
        "An integer array original is transformed into a **doubled** array changed by appending **twice the value** of every element in original, and then randomly **shuffling** the resulting array.\n",
        "\n",
        "Given an array changed, return original *if* changed *is a **doubled** array. If* changed *is not a **doubled** array, return an empty array. The elements in* original *may be returned in **any** order*.\n",
        "\n",
        "**Example 1:**\n",
        "\n",
        "**Input:** changed = [1,3,4,2,6,8]\n",
        "\n",
        "**Output:** [1,3,4]\n",
        "\n",
        "**Explanation:** One possible original array could be [1,3,4]:\n",
        "\n",
        "- Twice the value of 1 is 1 * 2 = 2.\n",
        "- Twice the value of 3 is 3 * 2 = 6.\n",
        "- Twice the value of 4 is 4 * 2 = 8.\n",
        "\n",
        "Other original arrays could be [4,3,1] or [3,1,4].\n",
        "\n",
        "</aside>"
      ]
    },
    {
      "cell_type": "code",
      "execution_count": null,
      "id": "85c4fdb3-456c-4b42-851a-7268d544990b",
      "metadata": {
        "id": "85c4fdb3-456c-4b42-851a-7268d544990b"
      },
      "outputs": [],
      "source": []
    }
  ],
  "metadata": {
    "kernelspec": {
      "display_name": "Python 3 (ipykernel)",
      "language": "python",
      "name": "python3"
    },
    "language_info": {
      "codemirror_mode": {
        "name": "ipython",
        "version": 3
      },
      "file_extension": ".py",
      "mimetype": "text/x-python",
      "name": "python",
      "nbconvert_exporter": "python",
      "pygments_lexer": "ipython3",
      "version": "3.10.8"
    },
    "colab": {
      "provenance": []
    }
  },
  "nbformat": 4,
  "nbformat_minor": 5
}